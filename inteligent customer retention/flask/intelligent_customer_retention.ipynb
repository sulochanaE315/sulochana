{
  "cells": [
    {
      "cell_type": "code",
      "execution_count": null,
      "metadata": {
        "id": "an9e2KEahBdt"
      },
      "outputs": [],
      "source": [
        "#import necessary libraries\n",
        "\n",
        "import pandas as pd\n",
        "\n",
        "import numpy as np\n",
        "\n",
        "import pickle\n",
        "\n",
        "import matplotlib.pyplot as plt\n",
        "\n",
        "%matplotlib inline\n",
        "\n",
        "import seaborn as sns\n",
        "\n",
        "import sklearn\n",
        "\n",
        "from sklearn.preprocessing import LabelEncoder, OneHotEncoder \n",
        "\n",
        "from sklearn.linear_model import LogisticRegression \n",
        "\n",
        "from sklearn.tree import DecisionTreeClassifier\n",
        "\n",
        "from sklearn.ensemble import RandomForestClassifier \n",
        "\n",
        "from sklearn.neighbors import KNeighborsClassifier\n",
        "\n",
        "from sklearn.svm import SVC\n",
        "\n",
        "from sklearn.model_selection import RandomizedSearchCV\n",
        "\n",
        "import imblearn\n",
        "\n",
        "from imblearn.over_sampling import SMOTE \n",
        "\n",
        "from sklearn.model_selection import train_test_split\n",
        "\n",
        "from sklearn.preprocessing import StandardScaler\n",
        "\n",
        "from sklearn.metrics import accuracy_score,classification_report, confusion_matrix, f1_score "
      ]
    },
    {
      "cell_type": "code",
      "execution_count": null,
      "metadata": {
        "colab": {
          "base_uri": "https://localhost:8080/",
          "height": 488
        },
        "id": "8F24s8P4s3bM",
        "outputId": "fe7e2972-f23e-4aa8-bab8-8d2d2b77097f"
      },
      "outputs": [
        {
          "data": {
            "text/html": [
              "\n",
              "  <div id=\"df-2793a247-4881-4b22-aae2-2145895edee3\">\n",
              "    <div class=\"colab-df-container\">\n",
              "      <div>\n",
              "<style scoped>\n",
              "    .dataframe tbody tr th:only-of-type {\n",
              "        vertical-align: middle;\n",
              "    }\n",
              "\n",
              "    .dataframe tbody tr th {\n",
              "        vertical-align: top;\n",
              "    }\n",
              "\n",
              "    .dataframe thead th {\n",
              "        text-align: right;\n",
              "    }\n",
              "</style>\n",
              "<table border=\"1\" class=\"dataframe\">\n",
              "  <thead>\n",
              "    <tr style=\"text-align: right;\">\n",
              "      <th></th>\n",
              "      <th>RowNumber</th>\n",
              "      <th>CustomerId</th>\n",
              "      <th>Surname</th>\n",
              "      <th>CreditScore</th>\n",
              "      <th>Geography</th>\n",
              "      <th>Gender</th>\n",
              "      <th>Age</th>\n",
              "      <th>Tenure</th>\n",
              "      <th>Balance</th>\n",
              "      <th>NumOfProducts</th>\n",
              "      <th>HasCrCard</th>\n",
              "      <th>IsActiveMember</th>\n",
              "      <th>EstimatedSalary</th>\n",
              "      <th>Exited</th>\n",
              "    </tr>\n",
              "  </thead>\n",
              "  <tbody>\n",
              "    <tr>\n",
              "      <th>0</th>\n",
              "      <td>1</td>\n",
              "      <td>15634602</td>\n",
              "      <td>Hargrave</td>\n",
              "      <td>619</td>\n",
              "      <td>France</td>\n",
              "      <td>Female</td>\n",
              "      <td>42</td>\n",
              "      <td>2</td>\n",
              "      <td>0.00</td>\n",
              "      <td>1</td>\n",
              "      <td>1</td>\n",
              "      <td>1</td>\n",
              "      <td>101348.88</td>\n",
              "      <td>1</td>\n",
              "    </tr>\n",
              "    <tr>\n",
              "      <th>1</th>\n",
              "      <td>2</td>\n",
              "      <td>15647311</td>\n",
              "      <td>Hill</td>\n",
              "      <td>608</td>\n",
              "      <td>Spain</td>\n",
              "      <td>Female</td>\n",
              "      <td>41</td>\n",
              "      <td>1</td>\n",
              "      <td>83807.86</td>\n",
              "      <td>1</td>\n",
              "      <td>0</td>\n",
              "      <td>1</td>\n",
              "      <td>112542.58</td>\n",
              "      <td>0</td>\n",
              "    </tr>\n",
              "    <tr>\n",
              "      <th>2</th>\n",
              "      <td>3</td>\n",
              "      <td>15619304</td>\n",
              "      <td>Onio</td>\n",
              "      <td>502</td>\n",
              "      <td>France</td>\n",
              "      <td>Female</td>\n",
              "      <td>42</td>\n",
              "      <td>8</td>\n",
              "      <td>159660.80</td>\n",
              "      <td>3</td>\n",
              "      <td>1</td>\n",
              "      <td>0</td>\n",
              "      <td>113931.57</td>\n",
              "      <td>1</td>\n",
              "    </tr>\n",
              "    <tr>\n",
              "      <th>3</th>\n",
              "      <td>4</td>\n",
              "      <td>15701354</td>\n",
              "      <td>Boni</td>\n",
              "      <td>699</td>\n",
              "      <td>France</td>\n",
              "      <td>Female</td>\n",
              "      <td>39</td>\n",
              "      <td>1</td>\n",
              "      <td>0.00</td>\n",
              "      <td>2</td>\n",
              "      <td>0</td>\n",
              "      <td>0</td>\n",
              "      <td>93826.63</td>\n",
              "      <td>0</td>\n",
              "    </tr>\n",
              "    <tr>\n",
              "      <th>4</th>\n",
              "      <td>5</td>\n",
              "      <td>15737888</td>\n",
              "      <td>Mitchell</td>\n",
              "      <td>850</td>\n",
              "      <td>Spain</td>\n",
              "      <td>Female</td>\n",
              "      <td>43</td>\n",
              "      <td>2</td>\n",
              "      <td>125510.82</td>\n",
              "      <td>1</td>\n",
              "      <td>1</td>\n",
              "      <td>1</td>\n",
              "      <td>79084.10</td>\n",
              "      <td>0</td>\n",
              "    </tr>\n",
              "    <tr>\n",
              "      <th>...</th>\n",
              "      <td>...</td>\n",
              "      <td>...</td>\n",
              "      <td>...</td>\n",
              "      <td>...</td>\n",
              "      <td>...</td>\n",
              "      <td>...</td>\n",
              "      <td>...</td>\n",
              "      <td>...</td>\n",
              "      <td>...</td>\n",
              "      <td>...</td>\n",
              "      <td>...</td>\n",
              "      <td>...</td>\n",
              "      <td>...</td>\n",
              "      <td>...</td>\n",
              "    </tr>\n",
              "    <tr>\n",
              "      <th>9995</th>\n",
              "      <td>9996</td>\n",
              "      <td>15606229</td>\n",
              "      <td>Obijiaku</td>\n",
              "      <td>771</td>\n",
              "      <td>France</td>\n",
              "      <td>Male</td>\n",
              "      <td>39</td>\n",
              "      <td>5</td>\n",
              "      <td>0.00</td>\n",
              "      <td>2</td>\n",
              "      <td>1</td>\n",
              "      <td>0</td>\n",
              "      <td>96270.64</td>\n",
              "      <td>0</td>\n",
              "    </tr>\n",
              "    <tr>\n",
              "      <th>9996</th>\n",
              "      <td>9997</td>\n",
              "      <td>15569892</td>\n",
              "      <td>Johnstone</td>\n",
              "      <td>516</td>\n",
              "      <td>France</td>\n",
              "      <td>Male</td>\n",
              "      <td>35</td>\n",
              "      <td>10</td>\n",
              "      <td>57369.61</td>\n",
              "      <td>1</td>\n",
              "      <td>1</td>\n",
              "      <td>1</td>\n",
              "      <td>101699.77</td>\n",
              "      <td>0</td>\n",
              "    </tr>\n",
              "    <tr>\n",
              "      <th>9997</th>\n",
              "      <td>9998</td>\n",
              "      <td>15584532</td>\n",
              "      <td>Liu</td>\n",
              "      <td>709</td>\n",
              "      <td>France</td>\n",
              "      <td>Female</td>\n",
              "      <td>36</td>\n",
              "      <td>7</td>\n",
              "      <td>0.00</td>\n",
              "      <td>1</td>\n",
              "      <td>0</td>\n",
              "      <td>1</td>\n",
              "      <td>42085.58</td>\n",
              "      <td>1</td>\n",
              "    </tr>\n",
              "    <tr>\n",
              "      <th>9998</th>\n",
              "      <td>9999</td>\n",
              "      <td>15682355</td>\n",
              "      <td>Sabbatini</td>\n",
              "      <td>772</td>\n",
              "      <td>Germany</td>\n",
              "      <td>Male</td>\n",
              "      <td>42</td>\n",
              "      <td>3</td>\n",
              "      <td>75075.31</td>\n",
              "      <td>2</td>\n",
              "      <td>1</td>\n",
              "      <td>0</td>\n",
              "      <td>92888.52</td>\n",
              "      <td>1</td>\n",
              "    </tr>\n",
              "    <tr>\n",
              "      <th>9999</th>\n",
              "      <td>10000</td>\n",
              "      <td>15628319</td>\n",
              "      <td>Walker</td>\n",
              "      <td>792</td>\n",
              "      <td>France</td>\n",
              "      <td>Female</td>\n",
              "      <td>28</td>\n",
              "      <td>4</td>\n",
              "      <td>130142.79</td>\n",
              "      <td>1</td>\n",
              "      <td>1</td>\n",
              "      <td>0</td>\n",
              "      <td>38190.78</td>\n",
              "      <td>0</td>\n",
              "    </tr>\n",
              "  </tbody>\n",
              "</table>\n",
              "<p>10000 rows × 14 columns</p>\n",
              "</div>\n",
              "      <button class=\"colab-df-convert\" onclick=\"convertToInteractive('df-2793a247-4881-4b22-aae2-2145895edee3')\"\n",
              "              title=\"Convert this dataframe to an interactive table.\"\n",
              "              style=\"display:none;\">\n",
              "        \n",
              "  <svg xmlns=\"http://www.w3.org/2000/svg\" height=\"24px\"viewBox=\"0 0 24 24\"\n",
              "       width=\"24px\">\n",
              "    <path d=\"M0 0h24v24H0V0z\" fill=\"none\"/>\n",
              "    <path d=\"M18.56 5.44l.94 2.06.94-2.06 2.06-.94-2.06-.94-.94-2.06-.94 2.06-2.06.94zm-11 1L8.5 8.5l.94-2.06 2.06-.94-2.06-.94L8.5 2.5l-.94 2.06-2.06.94zm10 10l.94 2.06.94-2.06 2.06-.94-2.06-.94-.94-2.06-.94 2.06-2.06.94z\"/><path d=\"M17.41 7.96l-1.37-1.37c-.4-.4-.92-.59-1.43-.59-.52 0-1.04.2-1.43.59L10.3 9.45l-7.72 7.72c-.78.78-.78 2.05 0 2.83L4 21.41c.39.39.9.59 1.41.59.51 0 1.02-.2 1.41-.59l7.78-7.78 2.81-2.81c.8-.78.8-2.07 0-2.86zM5.41 20L4 18.59l7.72-7.72 1.47 1.35L5.41 20z\"/>\n",
              "  </svg>\n",
              "      </button>\n",
              "      \n",
              "  <style>\n",
              "    .colab-df-container {\n",
              "      display:flex;\n",
              "      flex-wrap:wrap;\n",
              "      gap: 12px;\n",
              "    }\n",
              "\n",
              "    .colab-df-convert {\n",
              "      background-color: #E8F0FE;\n",
              "      border: none;\n",
              "      border-radius: 50%;\n",
              "      cursor: pointer;\n",
              "      display: none;\n",
              "      fill: #1967D2;\n",
              "      height: 32px;\n",
              "      padding: 0 0 0 0;\n",
              "      width: 32px;\n",
              "    }\n",
              "\n",
              "    .colab-df-convert:hover {\n",
              "      background-color: #E2EBFA;\n",
              "      box-shadow: 0px 1px 2px rgba(60, 64, 67, 0.3), 0px 1px 3px 1px rgba(60, 64, 67, 0.15);\n",
              "      fill: #174EA6;\n",
              "    }\n",
              "\n",
              "    [theme=dark] .colab-df-convert {\n",
              "      background-color: #3B4455;\n",
              "      fill: #D2E3FC;\n",
              "    }\n",
              "\n",
              "    [theme=dark] .colab-df-convert:hover {\n",
              "      background-color: #434B5C;\n",
              "      box-shadow: 0px 1px 3px 1px rgba(0, 0, 0, 0.15);\n",
              "      filter: drop-shadow(0px 1px 2px rgba(0, 0, 0, 0.3));\n",
              "      fill: #FFFFFF;\n",
              "    }\n",
              "  </style>\n",
              "\n",
              "      <script>\n",
              "        const buttonEl =\n",
              "          document.querySelector('#df-2793a247-4881-4b22-aae2-2145895edee3 button.colab-df-convert');\n",
              "        buttonEl.style.display =\n",
              "          google.colab.kernel.accessAllowed ? 'block' : 'none';\n",
              "\n",
              "        async function convertToInteractive(key) {\n",
              "          const element = document.querySelector('#df-2793a247-4881-4b22-aae2-2145895edee3');\n",
              "          const dataTable =\n",
              "            await google.colab.kernel.invokeFunction('convertToInteractive',\n",
              "                                                     [key], {});\n",
              "          if (!dataTable) return;\n",
              "\n",
              "          const docLinkHtml = 'Like what you see? Visit the ' +\n",
              "            '<a target=\"_blank\" href=https://colab.research.google.com/notebooks/data_table.ipynb>data table notebook</a>'\n",
              "            + ' to learn more about interactive tables.';\n",
              "          element.innerHTML = '';\n",
              "          dataTable['output_type'] = 'display_data';\n",
              "          await google.colab.output.renderOutput(dataTable, element);\n",
              "          const docLink = document.createElement('div');\n",
              "          docLink.innerHTML = docLinkHtml;\n",
              "          element.appendChild(docLink);\n",
              "        }\n",
              "      </script>\n",
              "    </div>\n",
              "  </div>\n",
              "  "
            ],
            "text/plain": [
              "      RowNumber  CustomerId    Surname  CreditScore Geography  Gender  Age  \\\n",
              "0             1    15634602   Hargrave          619    France  Female   42   \n",
              "1             2    15647311       Hill          608     Spain  Female   41   \n",
              "2             3    15619304       Onio          502    France  Female   42   \n",
              "3             4    15701354       Boni          699    France  Female   39   \n",
              "4             5    15737888   Mitchell          850     Spain  Female   43   \n",
              "...         ...         ...        ...          ...       ...     ...  ...   \n",
              "9995       9996    15606229   Obijiaku          771    France    Male   39   \n",
              "9996       9997    15569892  Johnstone          516    France    Male   35   \n",
              "9997       9998    15584532        Liu          709    France  Female   36   \n",
              "9998       9999    15682355  Sabbatini          772   Germany    Male   42   \n",
              "9999      10000    15628319     Walker          792    France  Female   28   \n",
              "\n",
              "      Tenure    Balance  NumOfProducts  HasCrCard  IsActiveMember  \\\n",
              "0          2       0.00              1          1               1   \n",
              "1          1   83807.86              1          0               1   \n",
              "2          8  159660.80              3          1               0   \n",
              "3          1       0.00              2          0               0   \n",
              "4          2  125510.82              1          1               1   \n",
              "...      ...        ...            ...        ...             ...   \n",
              "9995       5       0.00              2          1               0   \n",
              "9996      10   57369.61              1          1               1   \n",
              "9997       7       0.00              1          0               1   \n",
              "9998       3   75075.31              2          1               0   \n",
              "9999       4  130142.79              1          1               0   \n",
              "\n",
              "      EstimatedSalary  Exited  \n",
              "0           101348.88       1  \n",
              "1           112542.58       0  \n",
              "2           113931.57       1  \n",
              "3            93826.63       0  \n",
              "4            79084.10       0  \n",
              "...               ...     ...  \n",
              "9995         96270.64       0  \n",
              "9996        101699.77       0  \n",
              "9997         42085.58       1  \n",
              "9998         92888.52       1  \n",
              "9999         38190.78       0  \n",
              "\n",
              "[10000 rows x 14 columns]"
            ]
          },
          "execution_count": 15,
          "metadata": {},
          "output_type": "execute_result"
        }
      ],
      "source": [
        "#import dataset\n",
        "data = pd.read_csv(r\"/content/Churn_Modelling.csv\")\n",
        "data"
      ]
    },
    {
      "cell_type": "code",
      "execution_count": null,
      "metadata": {
        "colab": {
          "base_uri": "https://localhost:8080/"
        },
        "id": "0AtA9eHC21PX",
        "outputId": "accb824c-5f61-4187-e5aa-41b95d34970c"
      },
      "outputs": [
        {
          "name": "stdout",
          "output_type": "stream",
          "text": [
            "<class 'pandas.core.frame.DataFrame'>\n",
            "RangeIndex: 10000 entries, 0 to 9999\n",
            "Data columns (total 14 columns):\n",
            " #   Column           Non-Null Count  Dtype  \n",
            "---  ------           --------------  -----  \n",
            " 0   RowNumber        10000 non-null  int64  \n",
            " 1   CustomerId       10000 non-null  int64  \n",
            " 2   Surname          10000 non-null  object \n",
            " 3   CreditScore      10000 non-null  int64  \n",
            " 4   Geography        10000 non-null  object \n",
            " 5   Gender           10000 non-null  object \n",
            " 6   Age              10000 non-null  int64  \n",
            " 7   Tenure           10000 non-null  int64  \n",
            " 8   Balance          10000 non-null  float64\n",
            " 9   NumOfProducts    10000 non-null  int64  \n",
            " 10  HasCrCard        10000 non-null  int64  \n",
            " 11  IsActiveMember   10000 non-null  int64  \n",
            " 12  EstimatedSalary  10000 non-null  float64\n",
            " 13  Exited           10000 non-null  int64  \n",
            "dtypes: float64(2), int64(9), object(3)\n",
            "memory usage: 1.1+ MB\n"
          ]
        }
      ],
      "source": [
        "data.info()"
      ]
    },
    {
      "cell_type": "code",
      "execution_count": null,
      "metadata": {
        "colab": {
          "base_uri": "https://localhost:8080/"
        },
        "id": "zkGDqmD_6Vu2",
        "outputId": "c88ecd6c-014f-46c9-eed7-04be632ca3f3"
      },
      "outputs": [
        {
          "data": {
            "text/plain": [
              "RowNumber          False\n",
              "CustomerId         False\n",
              "Surname            False\n",
              "CreditScore        False\n",
              "Geography          False\n",
              "Gender             False\n",
              "Age                False\n",
              "Tenure             False\n",
              "Balance            False\n",
              "NumOfProducts      False\n",
              "HasCrCard          False\n",
              "IsActiveMember     False\n",
              "EstimatedSalary    False\n",
              "Exited             False\n",
              "dtype: bool"
            ]
          },
          "execution_count": 77,
          "metadata": {},
          "output_type": "execute_result"
        }
      ],
      "source": [
        "#checking for null values\n",
        "data.EstimatedSalary= pd.to_numeric(data.EstimatedSalary, errors='coerce')\n",
        "data.isnull().any()\n"
      ]
    },
    {
      "cell_type": "code",
      "execution_count": null,
      "metadata": {
        "colab": {
          "base_uri": "https://localhost:8080/"
        },
        "id": "opdaK6EGGJsA",
        "outputId": "a78e2f64-1724-4029-a7f7-695b0f2f1ad1"
      },
      "outputs": [
        {
          "data": {
            "text/plain": [
              "RowNumber          0\n",
              "CustomerId         0\n",
              "Surname            0\n",
              "CreditScore        0\n",
              "Geography          0\n",
              "Gender             0\n",
              "Age                0\n",
              "Tenure             0\n",
              "Balance            0\n",
              "NumOfProducts      0\n",
              "HasCrCard          0\n",
              "IsActiveMember     0\n",
              "EstimatedSalary    0\n",
              "Exited             0\n",
              "dtype: int64"
            ]
          },
          "execution_count": 74,
          "metadata": {},
          "output_type": "execute_result"
        }
      ],
      "source": [
        "data.isnull().sum()"
      ]
    },
    {
      "cell_type": "code",
      "execution_count": null,
      "metadata": {
        "id": "M03TKnwCcO0i"
      },
      "outputs": [],
      "source": [
        "from sklearn.preprocessing import LabelEncoder\n",
        "le = LabelEncoder()\n",
        "data[\"RowNumber\"] = le.fit_transform(data[\"RowNumber\"])\n",
        "data[\"CustomerId\"] = le.fit_transform(data[\"CustomerId\"])\n",
        "data[\"Surname\"] = le.fit_transform(data[\"Surname\"])\n",
        "data[\"CreditScore\"] = le.fit_transform(data[\"CreditScore\"]) \n",
        "data[\"Geography\"] = le.fit_transform(data[\"Geography\"])\n",
        "data[\"Gender\"] = le.fit_transform(data[\"Gender\"])\n",
        "data[\"Age\"] = le.fit_transform(data[\"Age\"])\n",
        "data[\"Tenure\"] = le.fit_transform(data[\"Tenure\"])\n",
        "data[\"Balance\"] = le.fit_transform(data[\"Balance\"]) \n",
        "data[\"NumOfProducts\"] = le.fit_transform(data[\"NumOfProducts\"])\n",
        "data[\"HasCrCard\"] = le.fit_transform(data[\"HasCrCard\"])\n",
        "data[\"IsActiveMember\"]  = le.fit_transform(data[\"IsActiveMember\"]) \n",
        "data[\"EstimatedSalary\"] = le.fit_transform(data[\"EstimatedSalary\"])\n",
        "data[\"Exited\"]  = le.fit_transform(data[\"Exited\"]) \n"
      ]
    },
    {
      "cell_type": "code",
      "execution_count": null,
      "metadata": {
        "colab": {
          "base_uri": "https://localhost:8080/",
          "height": 270
        },
        "id": "mSc8kgEziGyZ",
        "outputId": "556ff31b-e027-4553-f91e-d96f687cfb42"
      },
      "outputs": [
        {
          "data": {
            "text/html": [
              "\n",
              "  <div id=\"df-b0d3940f-5874-4005-878b-c28dae9ce2ed\">\n",
              "    <div class=\"colab-df-container\">\n",
              "      <div>\n",
              "<style scoped>\n",
              "    .dataframe tbody tr th:only-of-type {\n",
              "        vertical-align: middle;\n",
              "    }\n",
              "\n",
              "    .dataframe tbody tr th {\n",
              "        vertical-align: top;\n",
              "    }\n",
              "\n",
              "    .dataframe thead th {\n",
              "        text-align: right;\n",
              "    }\n",
              "</style>\n",
              "<table border=\"1\" class=\"dataframe\">\n",
              "  <thead>\n",
              "    <tr style=\"text-align: right;\">\n",
              "      <th></th>\n",
              "      <th>RowNumber</th>\n",
              "      <th>CustomerId</th>\n",
              "      <th>Surname</th>\n",
              "      <th>CreditScore</th>\n",
              "      <th>Geography</th>\n",
              "      <th>Gender</th>\n",
              "      <th>Age</th>\n",
              "      <th>Tenure</th>\n",
              "      <th>Balance</th>\n",
              "      <th>NumOfProducts</th>\n",
              "      <th>HasCrCard</th>\n",
              "      <th>IsActiveMember</th>\n",
              "      <th>EstimatedSalary</th>\n",
              "      <th>Exited</th>\n",
              "    </tr>\n",
              "  </thead>\n",
              "  <tbody>\n",
              "    <tr>\n",
              "      <th>0</th>\n",
              "      <td>0</td>\n",
              "      <td>2736</td>\n",
              "      <td>1115</td>\n",
              "      <td>228</td>\n",
              "      <td>0</td>\n",
              "      <td>0</td>\n",
              "      <td>24</td>\n",
              "      <td>2</td>\n",
              "      <td>0</td>\n",
              "      <td>0</td>\n",
              "      <td>1</td>\n",
              "      <td>1</td>\n",
              "      <td>5068</td>\n",
              "      <td>1</td>\n",
              "    </tr>\n",
              "    <tr>\n",
              "      <th>1</th>\n",
              "      <td>1</td>\n",
              "      <td>3258</td>\n",
              "      <td>1177</td>\n",
              "      <td>217</td>\n",
              "      <td>2</td>\n",
              "      <td>0</td>\n",
              "      <td>23</td>\n",
              "      <td>1</td>\n",
              "      <td>743</td>\n",
              "      <td>0</td>\n",
              "      <td>0</td>\n",
              "      <td>1</td>\n",
              "      <td>5639</td>\n",
              "      <td>0</td>\n",
              "    </tr>\n",
              "    <tr>\n",
              "      <th>2</th>\n",
              "      <td>2</td>\n",
              "      <td>2104</td>\n",
              "      <td>2040</td>\n",
              "      <td>111</td>\n",
              "      <td>0</td>\n",
              "      <td>0</td>\n",
              "      <td>24</td>\n",
              "      <td>8</td>\n",
              "      <td>5793</td>\n",
              "      <td>2</td>\n",
              "      <td>1</td>\n",
              "      <td>0</td>\n",
              "      <td>5707</td>\n",
              "      <td>1</td>\n",
              "    </tr>\n",
              "    <tr>\n",
              "      <th>3</th>\n",
              "      <td>3</td>\n",
              "      <td>5435</td>\n",
              "      <td>289</td>\n",
              "      <td>308</td>\n",
              "      <td>0</td>\n",
              "      <td>0</td>\n",
              "      <td>21</td>\n",
              "      <td>1</td>\n",
              "      <td>0</td>\n",
              "      <td>1</td>\n",
              "      <td>0</td>\n",
              "      <td>0</td>\n",
              "      <td>4704</td>\n",
              "      <td>0</td>\n",
              "    </tr>\n",
              "    <tr>\n",
              "      <th>4</th>\n",
              "      <td>4</td>\n",
              "      <td>6899</td>\n",
              "      <td>1822</td>\n",
              "      <td>459</td>\n",
              "      <td>2</td>\n",
              "      <td>0</td>\n",
              "      <td>25</td>\n",
              "      <td>2</td>\n",
              "      <td>3696</td>\n",
              "      <td>0</td>\n",
              "      <td>1</td>\n",
              "      <td>1</td>\n",
              "      <td>3925</td>\n",
              "      <td>0</td>\n",
              "    </tr>\n",
              "  </tbody>\n",
              "</table>\n",
              "</div>\n",
              "      <button class=\"colab-df-convert\" onclick=\"convertToInteractive('df-b0d3940f-5874-4005-878b-c28dae9ce2ed')\"\n",
              "              title=\"Convert this dataframe to an interactive table.\"\n",
              "              style=\"display:none;\">\n",
              "        \n",
              "  <svg xmlns=\"http://www.w3.org/2000/svg\" height=\"24px\"viewBox=\"0 0 24 24\"\n",
              "       width=\"24px\">\n",
              "    <path d=\"M0 0h24v24H0V0z\" fill=\"none\"/>\n",
              "    <path d=\"M18.56 5.44l.94 2.06.94-2.06 2.06-.94-2.06-.94-.94-2.06-.94 2.06-2.06.94zm-11 1L8.5 8.5l.94-2.06 2.06-.94-2.06-.94L8.5 2.5l-.94 2.06-2.06.94zm10 10l.94 2.06.94-2.06 2.06-.94-2.06-.94-.94-2.06-.94 2.06-2.06.94z\"/><path d=\"M17.41 7.96l-1.37-1.37c-.4-.4-.92-.59-1.43-.59-.52 0-1.04.2-1.43.59L10.3 9.45l-7.72 7.72c-.78.78-.78 2.05 0 2.83L4 21.41c.39.39.9.59 1.41.59.51 0 1.02-.2 1.41-.59l7.78-7.78 2.81-2.81c.8-.78.8-2.07 0-2.86zM5.41 20L4 18.59l7.72-7.72 1.47 1.35L5.41 20z\"/>\n",
              "  </svg>\n",
              "      </button>\n",
              "      \n",
              "  <style>\n",
              "    .colab-df-container {\n",
              "      display:flex;\n",
              "      flex-wrap:wrap;\n",
              "      gap: 12px;\n",
              "    }\n",
              "\n",
              "    .colab-df-convert {\n",
              "      background-color: #E8F0FE;\n",
              "      border: none;\n",
              "      border-radius: 50%;\n",
              "      cursor: pointer;\n",
              "      display: none;\n",
              "      fill: #1967D2;\n",
              "      height: 32px;\n",
              "      padding: 0 0 0 0;\n",
              "      width: 32px;\n",
              "    }\n",
              "\n",
              "    .colab-df-convert:hover {\n",
              "      background-color: #E2EBFA;\n",
              "      box-shadow: 0px 1px 2px rgba(60, 64, 67, 0.3), 0px 1px 3px 1px rgba(60, 64, 67, 0.15);\n",
              "      fill: #174EA6;\n",
              "    }\n",
              "\n",
              "    [theme=dark] .colab-df-convert {\n",
              "      background-color: #3B4455;\n",
              "      fill: #D2E3FC;\n",
              "    }\n",
              "\n",
              "    [theme=dark] .colab-df-convert:hover {\n",
              "      background-color: #434B5C;\n",
              "      box-shadow: 0px 1px 3px 1px rgba(0, 0, 0, 0.15);\n",
              "      filter: drop-shadow(0px 1px 2px rgba(0, 0, 0, 0.3));\n",
              "      fill: #FFFFFF;\n",
              "    }\n",
              "  </style>\n",
              "\n",
              "      <script>\n",
              "        const buttonEl =\n",
              "          document.querySelector('#df-b0d3940f-5874-4005-878b-c28dae9ce2ed button.colab-df-convert');\n",
              "        buttonEl.style.display =\n",
              "          google.colab.kernel.accessAllowed ? 'block' : 'none';\n",
              "\n",
              "        async function convertToInteractive(key) {\n",
              "          const element = document.querySelector('#df-b0d3940f-5874-4005-878b-c28dae9ce2ed');\n",
              "          const dataTable =\n",
              "            await google.colab.kernel.invokeFunction('convertToInteractive',\n",
              "                                                     [key], {});\n",
              "          if (!dataTable) return;\n",
              "\n",
              "          const docLinkHtml = 'Like what you see? Visit the ' +\n",
              "            '<a target=\"_blank\" href=https://colab.research.google.com/notebooks/data_table.ipynb>data table notebook</a>'\n",
              "            + ' to learn more about interactive tables.';\n",
              "          element.innerHTML = '';\n",
              "          dataTable['output_type'] = 'display_data';\n",
              "          await google.colab.output.renderOutput(dataTable, element);\n",
              "          const docLink = document.createElement('div');\n",
              "          docLink.innerHTML = docLinkHtml;\n",
              "          element.appendChild(docLink);\n",
              "        }\n",
              "      </script>\n",
              "    </div>\n",
              "  </div>\n",
              "  "
            ],
            "text/plain": [
              "   RowNumber  CustomerId  Surname  CreditScore  Geography  Gender  Age  \\\n",
              "0          0        2736     1115          228          0       0   24   \n",
              "1          1        3258     1177          217          2       0   23   \n",
              "2          2        2104     2040          111          0       0   24   \n",
              "3          3        5435      289          308          0       0   21   \n",
              "4          4        6899     1822          459          2       0   25   \n",
              "\n",
              "   Tenure  Balance  NumOfProducts  HasCrCard  IsActiveMember  EstimatedSalary  \\\n",
              "0       2        0              0          1               1             5068   \n",
              "1       1      743              0          0               1             5639   \n",
              "2       8     5793              2          1               0             5707   \n",
              "3       1        0              1          0               0             4704   \n",
              "4       2     3696              0          1               1             3925   \n",
              "\n",
              "   Exited  \n",
              "0       1  \n",
              "1       0  \n",
              "2       1  \n",
              "3       0  \n",
              "4       0  "
            ]
          },
          "execution_count": 94,
          "metadata": {},
          "output_type": "execute_result"
        }
      ],
      "source": [
        "data.head()"
      ]
    },
    {
      "cell_type": "code",
      "execution_count": null,
      "metadata": {
        "colab": {
          "base_uri": "https://localhost:8080/",
          "height": 304
        },
        "id": "4TZp_CrRjRfV",
        "outputId": "716dafed-5e19-4ac5-dc00-0e4bdb72d96b"
      },
      "outputs": [
        {
          "ename": "AttributeError",
          "evalue": "ignored",
          "output_type": "error",
          "traceback": [
            "\u001b[0;31m---------------------------------------------------------------------------\u001b[0m",
            "\u001b[0;31mAttributeError\u001b[0m                            Traceback (most recent call last)",
            "\u001b[0;32m<ipython-input-30-6317d9d06280>\u001b[0m in \u001b[0;36m<cell line: 1>\u001b[0;34m()\u001b[0m\n\u001b[0;32m----> 1\u001b[0;31m \u001b[0mx\u001b[0m\u001b[0;34m=\u001b[0m \u001b[0mnp\u001b[0m\u001b[0;34m.\u001b[0m\u001b[0mdata\u001b[0m\u001b[0;34m.\u001b[0m\u001b[0miloc\u001b[0m\u001b[0;34m[\u001b[0m\u001b[0;34m:\u001b[0m\u001b[0;34m,\u001b[0m\u001b[0;36m0\u001b[0m\u001b[0;34m:\u001b[0m\u001b[0;36m19\u001b[0m\u001b[0;34m]\u001b[0m\u001b[0;34m.\u001b[0m\u001b[0mvalues\u001b[0m\u001b[0;34m\u001b[0m\u001b[0;34m\u001b[0m\u001b[0m\n\u001b[0m\u001b[1;32m      2\u001b[0m \u001b[0my\u001b[0m\u001b[0;34m=\u001b[0m \u001b[0mnp\u001b[0m\u001b[0;34m.\u001b[0m\u001b[0mdata\u001b[0m\u001b[0;34m.\u001b[0m\u001b[0miloc\u001b[0m\u001b[0;34m[\u001b[0m\u001b[0;34m:\u001b[0m\u001b[0;34m,\u001b[0m\u001b[0;36m19\u001b[0m\u001b[0;34m:\u001b[0m\u001b[0;36m20\u001b[0m\u001b[0;34m]\u001b[0m\u001b[0;34m.\u001b[0m\u001b[0mvalues\u001b[0m\u001b[0;34m\u001b[0m\u001b[0;34m\u001b[0m\u001b[0m\n",
            "\u001b[0;32m/usr/local/lib/python3.9/dist-packages/numpy/__init__.py\u001b[0m in \u001b[0;36m__getattr__\u001b[0;34m(attr)\u001b[0m\n\u001b[1;32m    313\u001b[0m             \u001b[0;32mreturn\u001b[0m \u001b[0mTester\u001b[0m\u001b[0;34m\u001b[0m\u001b[0;34m\u001b[0m\u001b[0m\n\u001b[1;32m    314\u001b[0m \u001b[0;34m\u001b[0m\u001b[0m\n\u001b[0;32m--> 315\u001b[0;31m         raise AttributeError(\"module {!r} has no attribute \"\n\u001b[0m\u001b[1;32m    316\u001b[0m                              \"{!r}\".format(__name__, attr))\n\u001b[1;32m    317\u001b[0m \u001b[0;34m\u001b[0m\u001b[0m\n",
            "\u001b[0;31mAttributeError\u001b[0m: module 'numpy' has no attribute 'data'"
          ]
        }
      ],
      "source": [
        "x= np.data.iloc[:,0:19].values\n",
        "y= np.data.iloc[:,19:20].values"
      ]
    },
    {
      "cell_type": "code",
      "execution_count": null,
      "metadata": {
        "id": "jj7svghrKjUF"
      },
      "outputs": [],
      "source": []
    },
    {
      "cell_type": "code",
      "execution_count": null,
      "metadata": {
        "id": "ZVd4AgEokFme"
      },
      "outputs": [],
      "source": [
        "from sklearn.preprocessing import OneHotEncoder\n",
        "one = OneHotEncoder()\n",
        "a= one.fit_transform(x[:,6:7]).toarray()\n",
        "b= one.fit_transform(x[:,7:8]).toarray()\n",
        "c= one.fit_transform(x[:,8:9]).toarray()\n",
        "d= one.fit_transform(x[:,9:10]).toarray()\n",
        "e= one.fit_transform(x[:,10:11]).toarray()\n",
        "f= one.fit_transform(x[:,11:12]).toarray()\n",
        "g= one.fit_transform(x[:,12:13]).toarray()\n",
        "h= one.fit_transform(x[:,13:14]).toarray()\n",
        "i= one.fit_transform(x[:,13:14]).toarray()\n",
        "j= one.fit_transform(x[:,12:14]).toarray()\n",
        "x=np.delete(x,[4,5,6,7,8,9,10,11,12,13], axis=1)\n",
        "x=np.concatenate((a,b,c,d,e,f,g,h,i,j,x),axis=1)"
      ]
    },
    {
      "cell_type": "code",
      "execution_count": null,
      "metadata": {
        "id": "fBRD28XJrt7u"
      },
      "outputs": [],
      "source": [
        "from imblearn.over_sampling import SMOTE"
      ]
    },
    {
      "cell_type": "code",
      "execution_count": null,
      "metadata": {},
      "outputs": [],
      "source": [
        "smt = SMOTE()\n",
        "sns.pairplot(data=data, markers=[\"^\",\"v\"], palette=\"inferno\")"
      ]
    },
    {
      "cell_type": "code",
      "execution_count": null,
      "metadata": {
        "colab": {
          "base_uri": "https://localhost:8080/",
          "height": 364
        },
        "id": "W2ilF6n7vy73",
        "outputId": "40ce0b2b-4ef0-4b3b-914a-5a940bb701cd"
      },
      "outputs": [
        {
          "data": {
            "text/html": [
              "\n",
              "  <div id=\"df-b866f0b4-3675-451a-a875-eb77d11d98c2\">\n",
              "    <div class=\"colab-df-container\">\n",
              "      <div>\n",
              "<style scoped>\n",
              "    .dataframe tbody tr th:only-of-type {\n",
              "        vertical-align: middle;\n",
              "    }\n",
              "\n",
              "    .dataframe tbody tr th {\n",
              "        vertical-align: top;\n",
              "    }\n",
              "\n",
              "    .dataframe thead th {\n",
              "        text-align: right;\n",
              "    }\n",
              "</style>\n",
              "<table border=\"1\" class=\"dataframe\">\n",
              "  <thead>\n",
              "    <tr style=\"text-align: right;\">\n",
              "      <th></th>\n",
              "      <th>RowNumber</th>\n",
              "      <th>CustomerId</th>\n",
              "      <th>Surname</th>\n",
              "      <th>CreditScore</th>\n",
              "      <th>Geography</th>\n",
              "      <th>Gender</th>\n",
              "      <th>Age</th>\n",
              "      <th>Tenure</th>\n",
              "      <th>Balance</th>\n",
              "      <th>NumOfProducts</th>\n",
              "      <th>HasCrCard</th>\n",
              "      <th>IsActiveMember</th>\n",
              "      <th>EstimatedSalary</th>\n",
              "      <th>Exited</th>\n",
              "    </tr>\n",
              "  </thead>\n",
              "  <tbody>\n",
              "    <tr>\n",
              "      <th>count</th>\n",
              "      <td>10000.00000</td>\n",
              "      <td>10000.00000</td>\n",
              "      <td>10000.000000</td>\n",
              "      <td>10000.000000</td>\n",
              "      <td>10000.000000</td>\n",
              "      <td>10000.000000</td>\n",
              "      <td>10000.000000</td>\n",
              "      <td>10000.000000</td>\n",
              "      <td>10000.000000</td>\n",
              "      <td>10000.000000</td>\n",
              "      <td>10000.00000</td>\n",
              "      <td>10000.000000</td>\n",
              "      <td>10000.000000</td>\n",
              "      <td>10000.000000</td>\n",
              "    </tr>\n",
              "    <tr>\n",
              "      <th>mean</th>\n",
              "      <td>4999.50000</td>\n",
              "      <td>4999.50000</td>\n",
              "      <td>1507.774200</td>\n",
              "      <td>259.584600</td>\n",
              "      <td>0.746300</td>\n",
              "      <td>0.545700</td>\n",
              "      <td>20.920600</td>\n",
              "      <td>5.012800</td>\n",
              "      <td>2036.788100</td>\n",
              "      <td>0.530200</td>\n",
              "      <td>0.70550</td>\n",
              "      <td>0.515100</td>\n",
              "      <td>4998.621200</td>\n",
              "      <td>0.203700</td>\n",
              "    </tr>\n",
              "    <tr>\n",
              "      <th>std</th>\n",
              "      <td>2886.89568</td>\n",
              "      <td>2886.89568</td>\n",
              "      <td>846.204311</td>\n",
              "      <td>96.496107</td>\n",
              "      <td>0.827529</td>\n",
              "      <td>0.497932</td>\n",
              "      <td>10.482065</td>\n",
              "      <td>2.892174</td>\n",
              "      <td>2125.232536</td>\n",
              "      <td>0.581654</td>\n",
              "      <td>0.45584</td>\n",
              "      <td>0.499797</td>\n",
              "      <td>2886.711202</td>\n",
              "      <td>0.402769</td>\n",
              "    </tr>\n",
              "    <tr>\n",
              "      <th>min</th>\n",
              "      <td>0.00000</td>\n",
              "      <td>0.00000</td>\n",
              "      <td>0.000000</td>\n",
              "      <td>0.000000</td>\n",
              "      <td>0.000000</td>\n",
              "      <td>0.000000</td>\n",
              "      <td>0.000000</td>\n",
              "      <td>0.000000</td>\n",
              "      <td>0.000000</td>\n",
              "      <td>0.000000</td>\n",
              "      <td>0.00000</td>\n",
              "      <td>0.000000</td>\n",
              "      <td>0.000000</td>\n",
              "      <td>0.000000</td>\n",
              "    </tr>\n",
              "    <tr>\n",
              "      <th>25%</th>\n",
              "      <td>2499.75000</td>\n",
              "      <td>2499.75000</td>\n",
              "      <td>773.750000</td>\n",
              "      <td>193.000000</td>\n",
              "      <td>0.000000</td>\n",
              "      <td>0.000000</td>\n",
              "      <td>14.000000</td>\n",
              "      <td>3.000000</td>\n",
              "      <td>0.000000</td>\n",
              "      <td>0.000000</td>\n",
              "      <td>0.00000</td>\n",
              "      <td>0.000000</td>\n",
              "      <td>2498.750000</td>\n",
              "      <td>0.000000</td>\n",
              "    </tr>\n",
              "    <tr>\n",
              "      <th>50%</th>\n",
              "      <td>4999.50000</td>\n",
              "      <td>4999.50000</td>\n",
              "      <td>1542.000000</td>\n",
              "      <td>261.000000</td>\n",
              "      <td>0.000000</td>\n",
              "      <td>1.000000</td>\n",
              "      <td>19.000000</td>\n",
              "      <td>5.000000</td>\n",
              "      <td>1383.500000</td>\n",
              "      <td>0.000000</td>\n",
              "      <td>1.00000</td>\n",
              "      <td>1.000000</td>\n",
              "      <td>4998.500000</td>\n",
              "      <td>0.000000</td>\n",
              "    </tr>\n",
              "    <tr>\n",
              "      <th>75%</th>\n",
              "      <td>7499.25000</td>\n",
              "      <td>7499.25000</td>\n",
              "      <td>2238.250000</td>\n",
              "      <td>327.000000</td>\n",
              "      <td>1.000000</td>\n",
              "      <td>1.000000</td>\n",
              "      <td>26.000000</td>\n",
              "      <td>7.000000</td>\n",
              "      <td>3882.250000</td>\n",
              "      <td>1.000000</td>\n",
              "      <td>1.00000</td>\n",
              "      <td>1.000000</td>\n",
              "      <td>7498.250000</td>\n",
              "      <td>0.000000</td>\n",
              "    </tr>\n",
              "    <tr>\n",
              "      <th>max</th>\n",
              "      <td>9999.00000</td>\n",
              "      <td>9999.00000</td>\n",
              "      <td>2931.000000</td>\n",
              "      <td>459.000000</td>\n",
              "      <td>2.000000</td>\n",
              "      <td>1.000000</td>\n",
              "      <td>69.000000</td>\n",
              "      <td>10.000000</td>\n",
              "      <td>6381.000000</td>\n",
              "      <td>3.000000</td>\n",
              "      <td>1.00000</td>\n",
              "      <td>1.000000</td>\n",
              "      <td>9998.000000</td>\n",
              "      <td>1.000000</td>\n",
              "    </tr>\n",
              "  </tbody>\n",
              "</table>\n",
              "</div>\n",
              "      <button class=\"colab-df-convert\" onclick=\"convertToInteractive('df-b866f0b4-3675-451a-a875-eb77d11d98c2')\"\n",
              "              title=\"Convert this dataframe to an interactive table.\"\n",
              "              style=\"display:none;\">\n",
              "        \n",
              "  <svg xmlns=\"http://www.w3.org/2000/svg\" height=\"24px\"viewBox=\"0 0 24 24\"\n",
              "       width=\"24px\">\n",
              "    <path d=\"M0 0h24v24H0V0z\" fill=\"none\"/>\n",
              "    <path d=\"M18.56 5.44l.94 2.06.94-2.06 2.06-.94-2.06-.94-.94-2.06-.94 2.06-2.06.94zm-11 1L8.5 8.5l.94-2.06 2.06-.94-2.06-.94L8.5 2.5l-.94 2.06-2.06.94zm10 10l.94 2.06.94-2.06 2.06-.94-2.06-.94-.94-2.06-.94 2.06-2.06.94z\"/><path d=\"M17.41 7.96l-1.37-1.37c-.4-.4-.92-.59-1.43-.59-.52 0-1.04.2-1.43.59L10.3 9.45l-7.72 7.72c-.78.78-.78 2.05 0 2.83L4 21.41c.39.39.9.59 1.41.59.51 0 1.02-.2 1.41-.59l7.78-7.78 2.81-2.81c.8-.78.8-2.07 0-2.86zM5.41 20L4 18.59l7.72-7.72 1.47 1.35L5.41 20z\"/>\n",
              "  </svg>\n",
              "      </button>\n",
              "      \n",
              "  <style>\n",
              "    .colab-df-container {\n",
              "      display:flex;\n",
              "      flex-wrap:wrap;\n",
              "      gap: 12px;\n",
              "    }\n",
              "\n",
              "    .colab-df-convert {\n",
              "      background-color: #E8F0FE;\n",
              "      border: none;\n",
              "      border-radius: 50%;\n",
              "      cursor: pointer;\n",
              "      display: none;\n",
              "      fill: #1967D2;\n",
              "      height: 32px;\n",
              "      padding: 0 0 0 0;\n",
              "      width: 32px;\n",
              "    }\n",
              "\n",
              "    .colab-df-convert:hover {\n",
              "      background-color: #E2EBFA;\n",
              "      box-shadow: 0px 1px 2px rgba(60, 64, 67, 0.3), 0px 1px 3px 1px rgba(60, 64, 67, 0.15);\n",
              "      fill: #174EA6;\n",
              "    }\n",
              "\n",
              "    [theme=dark] .colab-df-convert {\n",
              "      background-color: #3B4455;\n",
              "      fill: #D2E3FC;\n",
              "    }\n",
              "\n",
              "    [theme=dark] .colab-df-convert:hover {\n",
              "      background-color: #434B5C;\n",
              "      box-shadow: 0px 1px 3px 1px rgba(0, 0, 0, 0.15);\n",
              "      filter: drop-shadow(0px 1px 2px rgba(0, 0, 0, 0.3));\n",
              "      fill: #FFFFFF;\n",
              "    }\n",
              "  </style>\n",
              "\n",
              "      <script>\n",
              "        const buttonEl =\n",
              "          document.querySelector('#df-b866f0b4-3675-451a-a875-eb77d11d98c2 button.colab-df-convert');\n",
              "        buttonEl.style.display =\n",
              "          google.colab.kernel.accessAllowed ? 'block' : 'none';\n",
              "\n",
              "        async function convertToInteractive(key) {\n",
              "          const element = document.querySelector('#df-b866f0b4-3675-451a-a875-eb77d11d98c2');\n",
              "          const dataTable =\n",
              "            await google.colab.kernel.invokeFunction('convertToInteractive',\n",
              "                                                     [key], {});\n",
              "          if (!dataTable) return;\n",
              "\n",
              "          const docLinkHtml = 'Like what you see? Visit the ' +\n",
              "            '<a target=\"_blank\" href=https://colab.research.google.com/notebooks/data_table.ipynb>data table notebook</a>'\n",
              "            + ' to learn more about interactive tables.';\n",
              "          element.innerHTML = '';\n",
              "          dataTable['output_type'] = 'display_data';\n",
              "          await google.colab.output.renderOutput(dataTable, element);\n",
              "          const docLink = document.createElement('div');\n",
              "          docLink.innerHTML = docLinkHtml;\n",
              "          element.appendChild(docLink);\n",
              "        }\n",
              "      </script>\n",
              "    </div>\n",
              "  </div>\n",
              "  "
            ],
            "text/plain": [
              "         RowNumber   CustomerId       Surname   CreditScore     Geography  \\\n",
              "count  10000.00000  10000.00000  10000.000000  10000.000000  10000.000000   \n",
              "mean    4999.50000   4999.50000   1507.774200    259.584600      0.746300   \n",
              "std     2886.89568   2886.89568    846.204311     96.496107      0.827529   \n",
              "min        0.00000      0.00000      0.000000      0.000000      0.000000   \n",
              "25%     2499.75000   2499.75000    773.750000    193.000000      0.000000   \n",
              "50%     4999.50000   4999.50000   1542.000000    261.000000      0.000000   \n",
              "75%     7499.25000   7499.25000   2238.250000    327.000000      1.000000   \n",
              "max     9999.00000   9999.00000   2931.000000    459.000000      2.000000   \n",
              "\n",
              "             Gender           Age        Tenure       Balance  NumOfProducts  \\\n",
              "count  10000.000000  10000.000000  10000.000000  10000.000000   10000.000000   \n",
              "mean       0.545700     20.920600      5.012800   2036.788100       0.530200   \n",
              "std        0.497932     10.482065      2.892174   2125.232536       0.581654   \n",
              "min        0.000000      0.000000      0.000000      0.000000       0.000000   \n",
              "25%        0.000000     14.000000      3.000000      0.000000       0.000000   \n",
              "50%        1.000000     19.000000      5.000000   1383.500000       0.000000   \n",
              "75%        1.000000     26.000000      7.000000   3882.250000       1.000000   \n",
              "max        1.000000     69.000000     10.000000   6381.000000       3.000000   \n",
              "\n",
              "         HasCrCard  IsActiveMember  EstimatedSalary        Exited  \n",
              "count  10000.00000    10000.000000     10000.000000  10000.000000  \n",
              "mean       0.70550        0.515100      4998.621200      0.203700  \n",
              "std        0.45584        0.499797      2886.711202      0.402769  \n",
              "min        0.00000        0.000000         0.000000      0.000000  \n",
              "25%        0.00000        0.000000      2498.750000      0.000000  \n",
              "50%        1.00000        1.000000      4998.500000      0.000000  \n",
              "75%        1.00000        1.000000      7498.250000      0.000000  \n",
              "max        1.00000        1.000000      9998.000000      1.000000  "
            ]
          },
          "execution_count": 156,
          "metadata": {},
          "output_type": "execute_result"
        }
      ],
      "source": [
        "data.describe()"
      ]
    },
    {
      "cell_type": "code",
      "execution_count": null,
      "metadata": {
        "colab": {
          "base_uri": "https://localhost:8080/",
          "height": 835
        },
        "id": "6NCXUXjCzIjo",
        "outputId": "c58a7445-20aa-47c7-a24e-a42e8960998a"
      },
      "outputs": [
        {
          "name": "stderr",
          "output_type": "stream",
          "text": [
            "<ipython-input-169-fec8894554d1>:3: UserWarning: \n",
            "\n",
            "`distplot` is a deprecated function and will be removed in seaborn v0.14.0.\n",
            "\n",
            "Please adapt your code to use either `displot` (a figure-level function with\n",
            "similar flexibility) or `histplot` (an axes-level function for histograms).\n",
            "\n",
            "For a guide to updating your code to use the new functions, please see\n",
            "https://gist.github.com/mwaskom/de44147ed2974457ad6372750bbe5751\n",
            "\n",
            "  sns.distplot(data[\"Tenure\"])\n",
            "<ipython-input-169-fec8894554d1>:5: UserWarning: \n",
            "\n",
            "`distplot` is a deprecated function and will be removed in seaborn v0.14.0.\n",
            "\n",
            "Please adapt your code to use either `displot` (a figure-level function with\n",
            "similar flexibility) or `histplot` (an axes-level function for histograms).\n",
            "\n",
            "For a guide to updating your code to use the new functions, please see\n",
            "https://gist.github.com/mwaskom/de44147ed2974457ad6372750bbe5751\n",
            "\n",
            "  sns.distplot(data[\"CreditScore\"])\n"
          ]
        },
        {
          "data": {
            "text/plain": [
              "<Axes: xlabel='CreditScore', ylabel='Density'>"
            ]
          },
          "execution_count": 169,
          "metadata": {},
          "output_type": "execute_result"
        },
        {
          "data": {
            "image/png": "[encoded data removed]",
            "text/plain": [
              "<Figure size 1200x500 with 2 Axes>"
            ]
          },
          "metadata": {},
          "output_type": "display_data"
        }
      ],
      "source": [
        "plt.figure(figsize=(12,5))\n",
        "plt.subplot(1,2,1)\n",
        "sns.distplot(data[\"Tenure\"])\n",
        "plt.subplot(1,2,2)\n",
        "sns.distplot(data[\"CreditScore\"])"
      ]
    },
    {
      "cell_type": "code",
      "execution_count": null,
      "metadata": {
        "colab": {
          "base_uri": "https://localhost:8080/",
          "height": 429
        },
        "id": "Z0FjFyjy3J_G",
        "outputId": "faccdb15-fb1e-46fb-fcca-aee23612e48a"
      },
      "outputs": [
        {
          "data": {
            "text/plain": [
              "<Axes: ylabel='count'>"
            ]
          },
          "execution_count": 175,
          "metadata": {},
          "output_type": "execute_result"
        },
        {
          "data": {
            "image/png": "[encoded data removed]",
            "text/plain": [
              "<Figure size 1200x500 with 2 Axes>"
            ]
          },
          "metadata": {},
          "output_type": "display_data"
        }
      ],
      "source": [
        "plt.figure(figsize=(12,5))\n",
        "plt.subplot(1,2,1)\n",
        "sns.countplot(data[\"Gender\"])\n",
        "plt.subplot(1,2,2)\n",
        "sns.countplot(data[\"CreditScore\"])"
      ]
    },
    {
      "cell_type": "code",
      "execution_count": null,
      "metadata": {
        "colab": {
          "base_uri": "https://localhost:8080/",
          "height": 466
        },
        "id": "I_-dCq9357Di",
        "outputId": "55fd95f2-ba7f-47de-96ee-e7e1a8a17cae"
      },
      "outputs": [
        {
          "data": {
            "text/plain": [
              "<Axes: xlabel='Exited', ylabel='IsActiveMember'>"
            ]
          },
          "execution_count": 171,
          "metadata": {},
          "output_type": "execute_result"
        },
        {
          "data": {
            "image/png": "[encoded data removed]",
            "text/plain": [
              "<Figure size 640x480 with 1 Axes>"
            ]
          },
          "metadata": {},
          "output_type": "display_data"
        }
      ],
      "source": [
        "sns.barplot(x=\"Exited\",y=\"IsActiveMember\",data=data)"
      ]
    },
    {
      "cell_type": "code",
      "execution_count": null,
      "metadata": {
        "colab": {
          "base_uri": "https://localhost:8080/",
          "height": 552
        },
        "id": "7QRbhrS68Hr_",
        "outputId": "ff6d74d3-948a-4e7a-ea31-732796ac8238"
      },
      "outputs": [
        {
          "data": {
            "text/plain": [
              "<Axes: >"
            ]
          },
          "execution_count": 177,
          "metadata": {},
          "output_type": "execute_result"
        },
        {
          "data": {
            "image/png": "[encoded data removed]",
            "text/plain": [
              "<Figure size 640x480 with 2 Axes>"
            ]
          },
          "metadata": {},
          "output_type": "display_data"
        }
      ],
      "source": [
        "sns.heatmap(data.corr(), annot=True)"
      ]
    },
    {
      "cell_type": "code",
      "execution_count": null,
      "metadata": {
        "id": "7JYGuZHVKPyD"
      },
      "outputs": [],
      "source": [
        "sns.pairplot(data=data, markers=[\"^\",\"v\"], palette=\"inferno\")"
      ]
    },
    {
      "cell_type": "code",
      "execution_count": null,
      "metadata": {
        "id": "mIjQU5_kCFFe"
      },
      "outputs": [],
      "source": [
        "from sklearn.model_selection import train_test_split \n",
        "x_train,x_test,y_train,y_test=train_test_split(x_resample,y_resample,test_size=0.2,random_state=0)"
      ]
    },
    {
      "cell_type": "code",
      "execution_count": null,
      "metadata": {
        "id": "OzygDbCgFAQi"
      },
      "outputs": [],
      "source": [
        "from sklearn.preprocessing import StandardScaler\n",
        "SC = StandardScaler()\n",
        "x_train = sc.fit_transform(x_train)\n",
        "x_test = sc.fit_transform(x_test)"
      ]
    },
    {
      "cell_type": "code",
      "execution_count": null,
      "metadata": {
        "id": "cLr7p4HFF-PW"
      },
      "outputs": [],
      "source": [
        "#importing and building the Decision tree model\n",
        "def logreg(x_train,x_test,y_train,y_test):\n",
        "  lr = LogisticRegression(random_state=0)\n",
        "  lr.fit(x_train,y_train)\n",
        "  y_lr_tr = lr.predict(x_train)\n",
        "  print(accuracy_score(y_lr_tr,y_train))\n",
        "  ypred_lr = lr.predict(x_test)\n",
        "  print(accuracy_score(yPred_lr,y_test))\n",
        "  print(\"***Logistic Regression***\")\n",
        "  print(\"Confusion_Matrix\")\n",
        "  print(confusion_matrix(y_test,yPred_lr))\n",
        "  print(\"Classification Report\")\n",
        "  print(classification_report(y_test,yPred_1r)) "
      ]
    },
    {
      "cell_type": "code",
      "execution_count": null,
      "metadata": {
        "id": "FJIBfU3oGyN3"
      },
      "outputs": [],
      "source": [
        "#printing the train accuracy and test accuracy respectively\n",
        "logreg(x-train,x-test,y-train,y-test)"
      ]
    },
    {
      "cell_type": "code",
      "execution_count": null,
      "metadata": {
        "id": "3i86EGuAYxCs"
      },
      "outputs": [],
      "source": [
        "#importing and building the Decision tree model\n",
        "def decisionTree(x_train,x_test,y_train,y_test):\n",
        "  dtc = DecisionTreeClassifier(criterion=\"entropy\",random_state=0)\n",
        "  dtc.fit(x_train,y_train)\n",
        "  y_dt_tr = dtc.predict(x_train)\n",
        "  print(accuracy_score (y_dt_tr,y_train))\n",
        "  yPred_dt = dtc.predict(x_test)\n",
        "  print(accuracy_score(yPred_dt,y_test))\n",
        "  print(\"***Decision Tree***\")\n",
        "  print(\"Confusion_Matrix\")\n",
        "  print(confusion_matrix(y_test,yPred_dt))\n",
        "  print(\"Classification Report\")\n",
        "  print(classification_report(y_test,yPred_dt))"
      ]
    },
    {
      "cell_type": "code",
      "execution_count": null,
      "metadata": {
        "id": "MOjh3QnXG-TR"
      },
      "outputs": [],
      "source": [
        "#printing the train accuracy and test accuracy respectively\n",
        "decisionTree(x_train,x_test,y_train,y_test)"
      ]
    },
    {
      "cell_type": "code",
      "execution_count": null,
      "metadata": {
        "id": "pFeKrMTNaaSV"
      },
      "outputs": [],
      "source": [
        "#importing and building the random forest model\n",
        "def RandomForest(x_tarin,x_test,y_train,y_test):\n",
        "  rf = RandomForestClassifier(criterion=\"entropy\",n_estimators=10,random_state=0)\n",
        "  rf.fit(x_train,y_train)\n",
        "  y_rf_tr = rf.predict(x_train)\n",
        "  print(accuracy_score (y_rf_tr,y_train))\n",
        "  yPred_rf = rf.predict(x_test)\n",
        "  print(accuracy_score(yPred_rf,y_test))\n",
        "  print(\"***Random Forest***\")\n",
        "  print(\"Confusion_Matrix\")\n",
        "  print(confusion_matrix(y_test,yPred_rf))\n",
        "  print(\"Classification Report\")\n",
        "  print(classification_report(y_test,yPred_rf))"
      ]
    },
    {
      "cell_type": "code",
      "execution_count": null,
      "metadata": {
        "id": "ouvc1IU4HTjA"
      },
      "outputs": [],
      "source": [
        "#printing the train acuracy and test accuracy respectively\n",
        "Rondomforest(x_train,x_test,y_train,y_test)"
      ]
    },
    {
      "cell_type": "code",
      "execution_count": null,
      "metadata": {
        "id": "crGsoBeecDNA"
      },
      "outputs": [],
      "source": [
        "#importing and building the KNN model\n",
        "def KNN(x_train,x_test,y_train,y_test):\n",
        "  knn = KNeighborsClassifier()\n",
        "  knn.fit(x_train,y_train)\n",
        "  y_knn_tr = knn.predict(x_train)\n",
        "  print(accuracy_score(y_knn_tr,y_train))\n",
        "  yPred_knn = knn.predict(x_test)\n",
        "  print(accuracy_score(yPred_knn,y_test))\n",
        "  print(\"***KNN***\")\n",
        "  print(\"Confusion_Matrix\")\n",
        "  print(\"Confusion_Matrix\")\n",
        "  print(\"Classification Report\")\n",
        "  print(classification_report(y_test,yPred_knn))"
      ]
    },
    {
      "cell_type": "code",
      "execution_count": null,
      "metadata": {
        "id": "ypfS6OGbIQC9"
      },
      "outputs": [],
      "source": [
        "#printing the train accuracy and test accuracy respectively\n",
        "KNN(x_train,x_test,y_train,y_test)"
      ]
    },
    {
      "cell_type": "code",
      "execution_count": null,
      "metadata": {
        "id": "cyDDiUnRdieX"
      },
      "outputs": [],
      "source": [
        "#importing and building the random forest model\n",
        "def svm(x_tarin,x_test,y_train,y_test):\n",
        "  svm = SVC (kernel = \"linear\")\n",
        "  svm.fit(x_train,y_train)\n",
        "  y_svm_tr = svm.predict(x_train)\n",
        "  print(accuracy_score(y_svm_tr,y_train))\n",
        "  yPred_svm = svm.predict(x_test)\n",
        "  print(accuracy_score (yPred_svm,y_test))\n",
        "  print(\"***Support Vector Machine***\")\n",
        "  print(\"Confusion_Matrix\")\n",
        "  print(confusion_matrix(y_test,yPred_svm))\n",
        "  print(\"Classification Report\")\n",
        "  print(classification_report(y_test,yPred_svm))"
      ]
    },
    {
      "cell_type": "code",
      "execution_count": null,
      "metadata": {
        "id": "4tRFGs4FIX_P"
      },
      "outputs": [],
      "source": [
        "#printing the train accuracy and test accuracy respectively\n",
        "svm(x_train,x_test,y_train,y_test)"
      ]
    },
    {
      "cell_type": "code",
      "execution_count": null,
      "metadata": {
        "id": "wWVQG_07fPx3"
      },
      "outputs": [],
      "source": [
        "# Importing the Keras libraries and packages\n",
        "import keras\n",
        "from keras.models import Sequential\n",
        "from keras.layers import Dense\n"
      ]
    },
    {
      "cell_type": "code",
      "execution_count": null,
      "metadata": {
        "id": "Extr6u_qpavG"
      },
      "outputs": [],
      "source": [
        "# Initialising the ANN\n",
        "classifier = Sequential()"
      ]
    },
    {
      "cell_type": "code",
      "execution_count": null,
      "metadata": {
        "id": "nt1x9Mh6plRT"
      },
      "outputs": [],
      "source": [
        "# Adding the input layer and the first hidden layer\n",
        "classifier.add(Dense(units=30, activation='relu', input_dim=40))"
      ]
    },
    {
      "cell_type": "code",
      "execution_count": null,
      "metadata": {
        "id": "LBde-21ypyGO"
      },
      "outputs": [],
      "source": [
        "# Adding the second hidden layer\n",
        "classifier.add(Dense (units=30, activation='relu'))"
      ]
    },
    {
      "cell_type": "code",
      "execution_count": null,
      "metadata": {
        "id": "wPFTR-kWp8Yb"
      },
      "outputs": [],
      "source": [
        "# Adding the output layer\n",
        "classifier.add(Dense (units=1, activation='sigmoid'))"
      ]
    },
    {
      "cell_type": "code",
      "execution_count": null,
      "metadata": {
        "id": "7AImRC1XqF3H"
      },
      "outputs": [],
      "source": [
        "# Compiling the ANN\n",
        "classifier.compile(optimizer='adam', loss='binary_crossentropy', metrics=['accuracy'])"
      ]
    },
    {
      "cell_type": "code",
      "execution_count": null,
      "metadata": {
        "id": "ROb1H3XaIwSp"
      },
      "outputs": [],
      "source": [
        "# Fitting the ANN to the Training set\n",
        "model_history = classifier.fit(x_train, y_train, batch_size=10, validation_split-8.33, epochs=200)"
      ]
    },
    {
      "cell_type": "code",
      "execution_count": null,
      "metadata": {
        "id": "6uQplcTeI2ld"
      },
      "outputs": [],
      "source": [
        "print(accuracy_score (ann_pred,y_test))\n",
        "print(\"***ANN Model***\")\n",
        "print(\"Confusion_Matrix\")\n",
        "print(confusion_matrix(y_test)\n",
        "print(\"Classification Report\")\n",
        "print(classification_report(y_test,ann_pred))"
      ]
    },
    {
      "cell_type": "code",
      "execution_count": null,
      "metadata": {
        "id": "IS2OnUqhJWqn"
      },
      "outputs": [],
      "source": [
        "#testing on random input values\n",
        "lr - LogisticRegression(random_state=0)\n",
        "lr.fit(x_train,y_train)\n",
        "print(\"Predicting on random input\")\n",
        "1r_pred_own = 1r.predict(sc.transform([[0,0,1,1,0,0,0,0,1,0,0,1,0,0,1,0,0,1,0,0,1,0,0,1,0,0,1,0,1,0,0,1,1,0,0,456,1,0,3245,4567]]))\n",
        "print(\"output is: \",lr_pred_own)"
      ]
    },
    {
      "cell_type": "code",
      "execution_count": null,
      "metadata": {
        "id": "lDEV1RmjJd9F"
      },
      "outputs": [],
      "source": [
        "#testing on random input values\n",
        "dtc - DecisionTreeClassifier(criterion=\"entropy\", random_state-0)\n",
        "dtc.fit(x_train,y_train)\n",
        "print(\"Predicting on random input\")\n",
        "dtc_pred_own = dtc.predict(sc.transform([[0,0,1,1,0,0,0,0,1,0,0,1,0,0,1,0,0,1,0,0,1,0,0,1,0,0,1,0,1,0,0,1,1,0,0,456,1,0,3245,4567]])) print(\"output \n",
        "print(\"output is: \",dtc_pred_own)"
      ]
    },
    {
      "cell_type": "code",
      "execution_count": null,
      "metadata": {
        "id": "E7NmI2OzJljr"
      },
      "outputs": [],
      "source": [
        "#testing on random input values\n",
        "rf = RandomForestClassifier(criterion=\"entropy\",n_estimators=10,random_state=0 \n",
        "rf.fit(x_train,y_train)\n",
        "print(\"Predicting on random input\")\n",
        "rf_pred_own = rf.predict(sc.transform([[0,0,1,1,0,0,0,0,1,0,0,1,0,0,1,0,0,1,0,0,1,0,0,1,0,0,1,0,1,0,0,1,1,0,0,456,1,0,3245,4567]]))\n",
        "print(\"output is: \",rf_pred_own)                            "
      ]
    },
    {
      "cell_type": "code",
      "execution_count": null,
      "metadata": {
        "id": "Pm9X0wrRJsFh"
      },
      "outputs": [],
      "source": [
        "#testing on random input values\n",
        "Svc = SVC (kernel = \"linear\")\n",
        "svc.fit(x_train,y_train)\n",
        "print(\"Predicting on random input\")\n",
        "svm_pred_own = svc.predict(sc.transform([[0,0,1,1,0,0,0,0,1,0,0,1,0,0,1,0,0,1,0,0,1,0,0,1,0,0,1,0,1,0,0,1,1,0,0,456,1,0,3245,4567]]))\n",
        "print(\"output is: \",svm_pred_own)"
      ]
    },
    {
      "cell_type": "code",
      "execution_count": null,
      "metadata": {
        "id": "FRptojehJ0U6"
      },
      "outputs": [],
      "source": [
        "#testing on random input values\n",
        "knn = KNeighborsClassifier()\n",
        "knn.fit(x_train,y_train)\n",
        "print(\"Predicting on random input\")\n",
        "knn_pred_own = knn.predict(sc.transform([[0,0,1,1,0,0,0,0,1,0,0,1,0,0,1,0,0,1,0,0,1,0,0,1,0,0,1,0,1,0,0,1,1,0,0,456,1,0,3245,4567]]))\n",
        "print(\"output is: \",knn_pred_own)"
      ]
    },
    {
      "cell_type": "code",
      "execution_count": null,
      "metadata": {
        "id": "PCRvPT_FxbcL"
      },
      "outputs": [],
      "source": [
        "#testing on random input values\n",
        "print(\"Predicting on random input\")\n",
        "ann_pred_own classifier.predict(sc.transform([[0,0,1,1,0,0,0,0,1,0,0,1,0,0,1,0,0,1,0,0,1,0,0,1,0,0,1,0,1,0,0,1,1,0,0,456,1,0,3245,4567]]))\n",
        "print(ann_pred_own)\n",
        "ann_pred_own = (ann_pred_own>0.5)\n",
        "print(\"output is: \",ann_pred_own)"
      ]
    },
    {
      "cell_type": "code",
      "execution_count": null,
      "metadata": {
        "id": "8CEbNxtSzs0x"
      },
      "outputs": [],
      "source": [
        "def compareModel(X_train,X_test,y_train,y_test):\n",
        "  logreg(x_train,x_test,y_train,y_test)\n",
        "  print('-'*100)\n",
        "  decisionTree(x_train,x_test,y_train,y_test)\n",
        "  print('-'*100)\n",
        "  RandomForest (x_train,x_test,y_train,y_test)\n",
        "  print('-'*100)\n",
        "  svm(X_train,X_test,y_train,y_test)\n",
        "  print('-'*100)\n",
        "  KNN(X_train,X_test,y_train,y_test)\n",
        "  print('-'*100)"
      ]
    },
    {
      "cell_type": "code",
      "execution_count": null,
      "metadata": {
        "id": "Os_kDf1p30zH"
      },
      "outputs": [],
      "source": [
        "compareModel(x_train,x_train,y_test)"
      ]
    },
    {
      "cell_type": "code",
      "execution_count": null,
      "metadata": {
        "id": "xqC2Ohdj3USV"
      },
      "outputs": [],
      "source": [
        "print(accuracy_score (ann_pred,y_test))\n",
        "print(\"***ANN Model***\")\n",
        "print(\"Confusion_Matrix\")\n",
        "print(confusion_matrix(y_test, ann_pred))\n",
        "print(\"Classification Report\")\n",
        "print(classification_report(y_test,ann_pred))"
      ]
    },
    {
      "cell_type": "code",
      "execution_count": null,
      "metadata": {
        "id": "NQg-7OMz4K3N"
      },
      "outputs": [],
      "source": [
        "y_rf = model.predict(x_train)\n",
        "print(accuracy_score(y_rf,y_train))\n",
        "yPred_rfcv = model.predict(x_test)\n",
        "print(accuracy_score(yPred_rfcv,y_test))\n",
        "print(\"***Random Forest after Hyperparameter tuning***\")\n",
        "print(\"Confusion_Matrix\")\n",
        "print(confusion_matrix(y_test,yPred_rfcv))\n",
        "print(\"Classification Report\")\n",
        "print(classification_report(y_test,yPred_rfcv))\n",
        "print(\"Predicting on random input\")\n",
        "rfcv_pred_own = model.predict(sc.transform([[0,0,1,1,0,0,0,0,1,0,0,1,0,0,1,0,0,1,0,0,1,0,0,1,0,0,1,0,1,0,0,1,1,0,0,456,1,0,3245,4567]]))\n",
        "print(\"output is: \",rfcv_pred_own)"
      ]
    },
    {
      "cell_type": "code",
      "execution_count": null,
      "metadata": {
        "id": "36EFXrim5N9z"
      },
      "outputs": [],
      "source": [
        "classifier.save(\"telcom_churn.h5\")"
      ]
    },
    {
      "cell_type": "code",
      "execution_count": null,
      "metadata": {
        "id": "nFRROl4x5-df"
      },
      "outputs": [],
      "source": [
        "from flask import Flask, render_template, request\n",
        "import keras\n",
        "from keras.models import load_model"
      ]
    },
    {
      "cell_type": "code",
      "execution_count": null,
      "metadata": {
        "id": "iGv48oeK6iW8"
      },
      "outputs": [],
      "source": [
        "app = Flask(__name___)\n",
        "model load_model(\"telcom_churn.h5\")"
      ]
    },
    {
      "cell_type": "code",
      "execution_count": null,
      "metadata": {
        "id": "yhhvdkfa63US"
      },
      "outputs": [],
      "source": [
        "@app.route('/') # rendering the html template\n",
        "def home():\n",
        "  return render_template('home.html')"
      ]
    },
    {
      "cell_type": "code",
      "execution_count": null,
      "metadata": {
        "id": "aJ_LTX_x7IJj"
      },
      "outputs": [],
      "source": [
        "@app.route('/')\n",
        "def helloworld():\n",
        "  return render_template(\"base.html\")\n",
        "  @app.route('/assesment')\n",
        "  def prediction():\n",
        "    def prediction():\n",
        "return render_template(\"index.html\")\n",
        "@app.route('/predict', methods = ['POST'])\n",
        "def admin():\n",
        "  a= request.form[\"gender\"]\n",
        "  if (aa=0=='f'):\n",
        "  if (a == 'm'):\n",
        "    b= request.form[\"srcitizen\"]\n",
        "    if (b==b=0'n'):\n",
        "    if (b == 'y'):\n",
        "    c= request.form[\"partner\"]\n",
        "    if (cC=0=='n'):\n",
        "    if (c == 'y'):\n",
        "    d= request.form[\"dependents\"]\n",
        "    if (d == 'n'):\n",
        "    if (d 'y'):  \n",
        "    d=1\n",
        "    e= request.form[\"tenure\"]\n",
        "    f= request.form[\"phservices\"]\n",
        "    if (f == 'n'):\n",
        "      f=0\n",
        "     if (f 'y'):\n",
        "       f=1\n",
        "      g= request.form[\"multi\"]\n",
        "      if (g=='n'): \n"
      ]
    },
    {
      "cell_type": "code",
      "execution_count": null,
      "metadata": {
        "id": "B6IshPHA9xRc"
      },
      "outputs": [],
      "source": [
        "if (g == 'n'):\n",
        "  g1,g2, g3=1,0,0 \n",
        "if (g'nps'):\n",
        "  g1,g2, g3=0,1,0\n",
        "if (g 'y'):\n",
        "  g1,2,g3=0,0,1\n",
        "h= request.form[\"is\"]\n",
        "if (h == 'dsl'):\n",
        "  h1, h2, h3=1,0,0\n",
        "if (h == 'fo'):\n",
        "  h1, h2, h3=0,1,0\n",
        "if (h == 'n'):\n",
        "   h1, h2, h3=0,0,1\n",
        "i= request.form[\"os\"]\n",
        "if (i == 'n'):\n",
        "  i1,12,13=1,0,0\n",
        "if (i == 'nis'):\n",
        "   i1,12,13=0,1,0\n",
        "if (i == 'y'):\n",
        "   11,12,13=0,0,1\n",
        "j= request.form[\"ob\"]\n",
        "if (j == 'n'):\n",
        "   j1,j2,j3=1,0,0\n",
        "if (j == 'nis'):\n",
        "   j1,j2,j3=0,1,0\n",
        "if (j == 'y'):\n",
        "   j1,j2,j3=0,0,1\n",
        "k= request.form[\"dp\"]\n",
        "if (k == 'n'):\n",
        "   k1,k2,k3=1,0,0\n",
        "if (k == 'nis'):\n",
        "   k1,k2,k3=0,1,0\n",
        "if (k == 'y'):\n",
        "   k1,k2,k3=0,0,1\n",
        "1= request.form[\"ts\"]\n",
        "if (1 == 'n'):\n",
        "   11,12,13=1,0,0"
      ]
    },
    {
      "cell_type": "code",
      "execution_count": null,
      "metadata": {
        "id": "jPvesqSYA3Gs"
      },
      "outputs": [],
      "source": [
        " 11,12,13=1,0,0\n",
        "if (1 == 'nis'):\n",
        "  11,12,13=0,1,0\n",
        "if (1 == 'y'):\n",
        "  11,12,13=0,0,1\n",
        "m= request.form[\"stv\"]\n",
        "if (m == 'n'):\n",
        "  m1,m2, m3=1,0,0\n",
        "if (m == 'nis'):\n",
        "  m1,m2, m3=0,1,0\n",
        "if (m == 'y'):\n",
        "  m1,m2, m3=0,0,1\n",
        "n= request.form[\"smv\"]\n",
        "if (n = 'n'):\n",
        "  n1,n2,n3=1,0,0\n",
        "if (n='nis'):\n",
        "  n1,n2, n3=0,1,0\n",
        "if (n =='y'):\n",
        "  n1,n2,n3=0,0,1\n",
        "o= request.form[\"contract\"]\n",
        "if (o == 'mtm'):\n",
        "  01,02,03=1,0,0\n",
        "if (o=='oyr'):\n",
        "  01,02,03-0,1,0\n",
        "if (o == 'tyrs'):\n",
        "  01,02,03-0,0,1\n",
        "p= request.form[\"pmt\"]\n",
        "if (p =='ec'):\n",
        "  p1, p2,p3,p4=1,0,0,0\n",
        "if (p == 'mail'):\n",
        "  p1, p2,p3,p4-0,1,0,0\n",
        "if (p == 'bt'):\n",
        "  p1, p2,p3,p4=0,0,1,0\n",
        "if (p == 'cc'):\n",
        "  p1, p2,p3,p4=0,0,0,1\n",
        "q= request.form[\"plb\"]\n",
        "if (q=='n'):\n"
      ]
    },
    {
      "cell_type": "code",
      "execution_count": null,
      "metadata": {
        "id": "ZbnZ_ezlFmHz"
      },
      "outputs": [],
      "source": [
        "q= request.form[\"plb\"]\n",
        "if (q == 'n'):\n",
        "  q=0\n",
        "if (q == 'y'):\n",
        "  q=1\n",
        "r= request.form[\"mcharges\"]\n",
        "s= request.form[\"tcharges\"]\n",
        "t=[[int(g1),int(g2),int(g3),int(h1),int(h2),int(h3),int(i1),int(i2),int(i3),int(j1\n",
        "print(t)\n",
        "x = model.predict(t)\n",
        "print(x[0])\n",
        "if (x[[0]] <=0.5):\n",
        "  y =\"No\"\n",
        "  return render_template(\"predno.html\", z = y)\n",
        "if (x[[0]] >= 0.5):\n",
        "  y = \"Yes\"\n",
        "  return render_template(\"predyes.html\", z = y)"
      ]
    }
  ],
  "metadata": {
    "colab": {
      "provenance": [],
      "toc_visible": true
    },
    "kernelspec": {
      "display_name": "Python 3",
      "name": "python3"
    },
    "language_info": {
      "name": "python"
    }
  },
  "nbformat": 4,
  "nbformat_minor": 0
}
